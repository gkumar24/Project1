{
 "cells": [
  {
   "cell_type": "code",
   "execution_count": 1,
   "metadata": {},
   "outputs": [
    {
     "data": {
      "text/html": [
       "<div>\n",
       "<style scoped>\n",
       "    .dataframe tbody tr th:only-of-type {\n",
       "        vertical-align: middle;\n",
       "    }\n",
       "\n",
       "    .dataframe tbody tr th {\n",
       "        vertical-align: top;\n",
       "    }\n",
       "\n",
       "    .dataframe thead th {\n",
       "        text-align: right;\n",
       "    }\n",
       "</style>\n",
       "<table border=\"1\" class=\"dataframe\">\n",
       "  <thead>\n",
       "    <tr style=\"text-align: right;\">\n",
       "      <th></th>\n",
       "      <th>State Abbr</th>\n",
       "    </tr>\n",
       "  </thead>\n",
       "  <tbody>\n",
       "    <tr>\n",
       "      <th>0</th>\n",
       "      <td>AK</td>\n",
       "    </tr>\n",
       "    <tr>\n",
       "      <th>1</th>\n",
       "      <td>AL</td>\n",
       "    </tr>\n",
       "    <tr>\n",
       "      <th>2</th>\n",
       "      <td>AR</td>\n",
       "    </tr>\n",
       "    <tr>\n",
       "      <th>3</th>\n",
       "      <td>AS</td>\n",
       "    </tr>\n",
       "    <tr>\n",
       "      <th>4</th>\n",
       "      <td>AZ</td>\n",
       "    </tr>\n",
       "  </tbody>\n",
       "</table>\n",
       "</div>"
      ],
      "text/plain": [
       "  State Abbr\n",
       "0         AK\n",
       "1         AL\n",
       "2         AR\n",
       "3         AS\n",
       "4         AZ"
      ]
     },
     "execution_count": 1,
     "metadata": {},
     "output_type": "execute_result"
    }
   ],
   "source": [
    "import pandas as pd\n",
    "import requests\n",
    "import json\n",
    "import time\n",
    "\n",
    "# Import API key\n",
    "from keys import api_key\n",
    "\n",
    "file_to_load = \"Resources/StateAbbr.csv\"\n",
    "\n",
    "#Read purchasing file and store into Pandas DF\n",
    "state_abbr = pd.read_csv(file_to_load)\n",
    "state_abbr.head()"
   ]
  },
  {
   "cell_type": "code",
   "execution_count": null,
   "metadata": {},
   "outputs": [
    {
     "name": "stdout",
     "output_type": "stream",
     "text": [
      "39 with 20 per page\n",
      "On page 0\n",
      "On page 1\n",
      "On page 2\n",
      "On page 3\n",
      "On page 4\n",
      "On page 5\n",
      "On page 6\n",
      "On page 7\n",
      "On page 8\n",
      "On page 9\n",
      "On page 10\n",
      "On page 11\n",
      "On page 12\n",
      "On page 13\n",
      "On page 14\n",
      "On page 15\n",
      "On page 16\n",
      "On page 17\n",
      "On page 18\n",
      "On page 19\n",
      "On page 20\n",
      "On page 21\n",
      "On page 22\n",
      "On page 23\n",
      "On page 24\n",
      "On page 25\n",
      "On page 26\n",
      "On page 27\n",
      "On page 28\n",
      "On page 29\n",
      "On page 30\n",
      "On page 31\n",
      "On page 32\n",
      "On page 33\n",
      "On page 34\n"
     ]
    }
   ],
   "source": [
    "# Get MN Data\n",
    "api_url = 'https://api.usa.gov/crime/fbi/sapi/api/summarized/state/MN/violent-crime/2017/2018?API_KEY=' + api_key\n",
    "response = requests.get(api_url)\n",
    "\n",
    "# list of crime dictionary from api to convert into dataFrame\n",
    "mn_crime_results = []\n",
    "\n",
    "# add to a dataframe\n",
    "if response.status_code == 200:\n",
    "    # call the api to get the total count\n",
    "    json = response.json()\n",
    "    total_count = json['pagination']['count']\n",
    "    \n",
    "    # Get number of pages to loop over\n",
    "    per_page = json['pagination']['per_page']\n",
    "    total_pages  = json['pagination']['pages']\n",
    "    print(f'{total_pages} with {per_page} per page')\n",
    "    \n",
    "    # for loop over all pages to accumulate total dataset\n",
    "    for page in range(0, total_pages):\n",
    "        # Prevent rate limiting & locked account\n",
    "        print(f'On page {page}')\n",
    "        time.sleep(1.1)\n",
    "        \n",
    "        api_page_url = api_url + '&page=' + str(page)\n",
    "        crime_response = requests.get(api_page_url)\n",
    "        if crime_response.status_code == 200:\n",
    "            crime_json = crime_response.json()\n",
    "            for crime_dictionary in crime_json['results']:\n",
    "                mn_crime_results.append(crime_dictionary)\n",
    "        else:\n",
    "            print(f\"Error getting crime data for page: {page}\")\n",
    "else:\n",
    "    print(\"Error getting crime data\")\n",
    "    \n",
    "print('------- Done Fetching Data -------')\n",
    "mn_crime_df = pd.DataFrame(mn_crime_results)\n",
    "mn_crime_df.head()\n"
   ]
  },
  {
   "cell_type": "code",
   "execution_count": null,
   "metadata": {},
   "outputs": [],
   "source": [
    "data = {'State': ['MN'], 'Offenses': [len(mn_crime_df)]}\n",
    "mn_count =  pd.DataFrame.from_dict(data)\n",
    "mn_count.head()"
   ]
  },
  {
   "cell_type": "code",
   "execution_count": null,
   "metadata": {},
   "outputs": [],
   "source": []
  }
 ],
 "metadata": {
  "kernelspec": {
   "display_name": "Python [conda env:root] *",
   "language": "python",
   "name": "conda-root-py"
  },
  "language_info": {
   "codemirror_mode": {
    "name": "ipython",
    "version": 3
   },
   "file_extension": ".py",
   "mimetype": "text/x-python",
   "name": "python",
   "nbconvert_exporter": "python",
   "pygments_lexer": "ipython3",
   "version": "3.7.3"
  }
 },
 "nbformat": 4,
 "nbformat_minor": 2
}
