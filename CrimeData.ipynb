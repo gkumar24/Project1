{
 "cells": [
  {
   "cell_type": "code",
   "execution_count": null,
   "metadata": {},
   "outputs": [],
   "source": [
    "# Dependencies and Setup\n",
    "import pandas as pd\n",
    "import requests\n",
    "import json\n",
    "import time\n",
    "\n",
    "# Hide warning messages in notebook\n",
    "import warnings\n",
    "warnings.filterwarnings('ignore')\n",
    "\n",
    "# Import API key\n",
    "from keys import api_key\n",
    "\n",
    "#State Abbr\n",
    "stateAbbr_file = \"Resources/StateAbbr.csv\"\n",
    "\n",
    "#Year to pull data\n",
    "year = 2017"
   ]
  },
  {
   "cell_type": "code",
   "execution_count": null,
   "metadata": {},
   "outputs": [],
   "source": [
    "#Read purchasing file and store into Pandas DF\n",
    "state_abbr = pd.read_csv(stateAbbr_file)\n",
    "state_abbr.head()"
   ]
  },
  {
   "cell_type": "code",
   "execution_count": null,
   "metadata": {},
   "outputs": [],
   "source": [
    "# create an empty dataframe, to store data retrived by API call\n",
    "crimeDataAll_df = pd.DataFrame()\n",
    "\n",
    "#Loop through each state, to get the crime data\n",
    "for state in state_abbr[\"State Abbr\"]:\n",
    "    print(f\"Processing State: {state}\")\n",
    "    api_url = f\"https://api.usa.gov/crime/fbi/sapi/api/summarized/estimates/states/{state}/{year}/{year}?API_KEY=\" + api_key\n",
    "    \n",
    "    # make the API call\n",
    "    crimeData_json = requests.get(api_url).json()  \n",
    "    \n",
    "    # skip the state, if the API fails. \n",
    "    try:\n",
    "        stateCrime_df = pd.DataFrame(crimeData_json[\"results\"])\n",
    "        \n",
    "        #if Dataframe is empty, copy the assign, else append the df\n",
    "        if crimeDataAll_df.empty:\n",
    "            crimeDataAll_df = stateCrime_df\n",
    "        else:\n",
    "            crimeDataAll_df = pd.concat([crimeDataAll_df, stateCrime_df], ignore_index=True)\n",
    "        \n",
    "    except (KeyError, IndexError):\n",
    "        print(f'Skippinh \"{state}\". data for state not exist.')\n",
    "    \n",
    "print(f\"Completed all states\")\n",
    "# Out of State For loop\n",
    "\n",
    "# Preview dataframe\n",
    "crimeDataAll_df"
   ]
  },
  {
   "cell_type": "code",
   "execution_count": null,
   "metadata": {},
   "outputs": [],
   "source": [
    "# Filter data for year\n",
    "crimeDataOffense_df = crimeDataAll_df[crimeDataAll_df[\"year\"] == year]\n",
    "crimeDataOffense_df"
   ]
  },
  {
   "cell_type": "code",
   "execution_count": null,
   "metadata": {},
   "outputs": [],
   "source": [
    "# calculate total offense, summing each offense category\n",
    "crimeDataOffense_df[\"total offense\"] = crimeDataOffense_df[\"violent_crime\"] + crimeDataOffense_df[\"homicide\"] \\\n",
    "                                        + crimeDataOffense_df[\"rape_revised\"] + crimeDataOffense_df[\"robbery\"] \\\n",
    "                                        + crimeDataOffense_df[\"aggravated_assault\"] + crimeDataOffense_df[\"property_crime\"] \\\n",
    "                                        + crimeDataOffense_df[\"burglary\"] + crimeDataOffense_df[\"larceny\"] \\\n",
    "                                        + crimeDataOffense_df[\"motor_vehicle_theft\"] + crimeDataOffense_df[\"arson\"]\n",
    "# preview dataframe\n",
    "crimeDataOffense_df"
   ]
  },
  {
   "cell_type": "code",
   "execution_count": null,
   "metadata": {},
   "outputs": [],
   "source": [
    "# Create Crime Data frame with only the needed column\n",
    "crimeData_df = crimeDataOffense_df[[\"state_abbr\",\"year\",\"population\",\"total offense\"]]\n",
    "crimeData_df = crimeData_df.rename(columns={\"state_abbr\":\"state\"})\n",
    "crimeData_df"
   ]
  },
  {
   "cell_type": "code",
   "execution_count": null,
   "metadata": {},
   "outputs": [],
   "source": [
    "# Export file as a CSV, without the Pandas index, but with the header\n",
    "crimeData_df.to_csv(\"Resources/CrimeData.csv\", index=False, header=True)"
   ]
  }
 ],
 "metadata": {
  "kernelspec": {
   "display_name": "Python 3",
   "language": "python",
   "name": "python3"
  },
  "language_info": {
   "codemirror_mode": {
    "name": "ipython",
    "version": 3
   },
   "file_extension": ".py",
   "mimetype": "text/x-python",
   "name": "python",
   "nbconvert_exporter": "python",
   "pygments_lexer": "ipython3",
   "version": "3.6.9"
  }
 },
 "nbformat": 4,
 "nbformat_minor": 2
}
